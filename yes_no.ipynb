{
  "nbformat": 4,
  "nbformat_minor": 0,
  "metadata": {
    "colab": {
      "provenance": [],
      "authorship_tag": "ABX9TyNgHiOp3o6TQohhqvwVMjaR",
      "include_colab_link": true
    },
    "kernelspec": {
      "name": "python3",
      "display_name": "Python 3"
    },
    "language_info": {
      "name": "python"
    }
  },
  "cells": [
    {
      "cell_type": "markdown",
      "metadata": {
        "id": "view-in-github",
        "colab_type": "text"
      },
      "source": [
        "<a href=\"https://colab.research.google.com/github/kritisinghh/yes-or-no/blob/main/yes_no.ipynb\" target=\"_parent\"><img src=\"https://colab.research.google.com/assets/colab-badge.svg\" alt=\"Open In Colab\"/></a>"
      ]
    },
    {
      "cell_type": "code",
      "execution_count": 1,
      "metadata": {
        "id": "Ceu_2N0s46VA"
      },
      "outputs": [],
      "source": [
        "from random import randint\n"
      ]
    },
    {
      "cell_type": "code",
      "source": [
        "\n",
        "n = int(input(\"You want your result to be from best of _ cases:\"))\n",
        "yes = 0\n",
        "no = 0\n",
        "for i in range(n):\n",
        "    x = randint(0, 1)\n",
        "    if x == 1:\n",
        "        print(f\"The choice in {i + 1} round is yes  :) \")\n",
        "        yes += 1\n",
        "    else:\n",
        "        print(f\"The choice in {i + 1} round is no   :(  \")\n",
        "        no += 1\n",
        "\n",
        "if yes > no:\n",
        "    print(\"The Final answer is Yess!! ^-^\")\n",
        "elif yes == no:\n",
        "    print(\"The Final answer is a Tie ^.^\")\n",
        "else:\n",
        "    print(\"The Final answer is No -_-\")\n"
      ],
      "metadata": {
        "colab": {
          "base_uri": "https://localhost:8080/"
        },
        "id": "7uMlmG9y5Hpq",
        "outputId": "6cced217-40db-45cb-d971-5b9123512bd8"
      },
      "execution_count": 11,
      "outputs": [
        {
          "output_type": "stream",
          "name": "stdout",
          "text": [
            "You want your result to be from best of _ cases:5\n",
            "The choice in 1 round is yes  :) \n",
            "The choice in 2 round is no   :(  \n",
            "The choice in 3 round is yes  :) \n",
            "The choice in 4 round is no   :(  \n",
            "The choice in 5 round is yes  :) \n",
            "The Final answer is Yess!! ^-^\n"
          ]
        }
      ]
    }
  ]
}